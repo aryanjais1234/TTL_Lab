{
 "cells": [
  {
   "cell_type": "markdown",
   "id": "e75b9bf5",
   "metadata": {},
   "source": [
    "## 1. Python program to capitalize the first and last character of each word in a string"
   ]
  },
  {
   "cell_type": "code",
   "execution_count": 7,
   "id": "ab5b5709",
   "metadata": {},
   "outputs": [
    {
     "name": "stdout",
     "output_type": "stream",
     "text": [
      "['ThiS', 'IS', 'ThE', 'ApplE']\n"
     ]
    }
   ],
   "source": [
    "def capitalize_first_last(string):\n",
    "    words = string.split()\n",
    "    new_words = []\n",
    "    for word in words:\n",
    "        new_word = word[0].upper() + word[1:-1] + word[-1].upper()\n",
    "        new_words.append(new_word)\n",
    "    return new_words\n",
    "str=\"this is the apple\"\n",
    "str=capitalize_first_last(str)\n",
    "print(str)"
   ]
  },
  {
   "cell_type": "markdown",
   "id": "6b34e0a2",
   "metadata": {},
   "source": [
    "## 2.Python program to check if a string has at least one letter and one number"
   ]
  },
  {
   "cell_type": "code",
   "execution_count": 8,
   "id": "62f7dd14",
   "metadata": {},
   "outputs": [
    {
     "name": "stdout",
     "output_type": "stream",
     "text": [
      "True\n"
     ]
    }
   ],
   "source": [
    "def has_letter_number(string):\n",
    "    has_letter = False\n",
    "    has_number = False\n",
    "    for char in string:\n",
    "        if char.isalpha():\n",
    "            has_letter = True\n",
    "        if char.isdigit():\n",
    "            has_number = True\n",
    "    return has_letter and has_number\n",
    "\n",
    "str=\"2aryan\"\n",
    "print(has_letter_number(str))"
   ]
  },
  {
   "cell_type": "markdown",
   "id": "5258106c",
   "metadata": {},
   "source": [
    "## 3.Python | Program to accept the strings which contains all vowels"
   ]
  },
  {
   "cell_type": "code",
   "execution_count": 10,
   "id": "7c3f04ad",
   "metadata": {},
   "outputs": [
    {
     "name": "stdout",
     "output_type": "stream",
     "text": [
      "True\n"
     ]
    }
   ],
   "source": [
    "def check_all_vowels(string):\n",
    "    vowels = set(\"aeiouAEIOU\")\n",
    "    return all(char in vowels for char in string)\n",
    "\n",
    "str=\"aeiou\"\n",
    "print(check_all_vowels(str))"
   ]
  },
  {
   "cell_type": "markdown",
   "id": "7dbb7b11",
   "metadata": {},
   "source": [
    "## 4.Python | Count the Number of matching characters in a pair of string"
   ]
  },
  {
   "cell_type": "code",
   "execution_count": 11,
   "id": "a3c2afb1",
   "metadata": {},
   "outputs": [
    {
     "name": "stdout",
     "output_type": "stream",
     "text": [
      "1\n"
     ]
    }
   ],
   "source": [
    "def count_matching_chars(string1, string2):\n",
    "    count = 0\n",
    "    for i in range(min(len(string1), len(string2))):\n",
    "        if string1[i] == string2[i]:\n",
    "            count += 1\n",
    "    return count\n",
    "\n",
    "str1=\"aabaaccuuuiii\"\n",
    "str2=\"bbbjjjiiaau\"\n",
    "print(count_matching_chars(str1,str2))"
   ]
  },
  {
   "cell_type": "markdown",
   "id": "57814eae",
   "metadata": {},
   "source": [
    "## 5. Python program to count number of vowels using sets in given string"
   ]
  },
  {
   "cell_type": "code",
   "execution_count": 4,
   "id": "cd3af29e",
   "metadata": {},
   "outputs": [
    {
     "name": "stdout",
     "output_type": "stream",
     "text": [
      "4\n"
     ]
    }
   ],
   "source": [
    "def count_vowels(string):\n",
    "    vowels = \"aeiouAEIOU\"\n",
    "    return len(set(string) & set(vowels))\n",
    "\n",
    "str=\"aeiopl\"\n",
    "print(count_vowels(str))"
   ]
  },
  {
   "cell_type": "markdown",
   "id": "b66e0390",
   "metadata": {},
   "source": [
    "## 6. Check if a Substring is Present in a Given String"
   ]
  },
  {
   "cell_type": "code",
   "execution_count": 6,
   "id": "84390f44",
   "metadata": {},
   "outputs": [
    {
     "data": {
      "text/plain": [
       "True"
      ]
     },
     "execution_count": 6,
     "metadata": {},
     "output_type": "execute_result"
    }
   ],
   "source": [
    "def is_substring(string, substring):\n",
    "    return substring in string\n",
    "\n",
    "\n",
    "str1=\"How are you\"\n",
    "str2=\"you\"\n",
    "\n",
    "is_substring(str1,str2)"
   ]
  },
  {
   "cell_type": "markdown",
   "id": "3cfe8770",
   "metadata": {},
   "source": [
    "## 7. Substring presence in Strings List"
   ]
  },
  {
   "cell_type": "code",
   "execution_count": 8,
   "id": "d8b26848",
   "metadata": {},
   "outputs": [
    {
     "ename": "TypeError",
     "evalue": "'in <string>' requires string as left operand, not list",
     "output_type": "error",
     "traceback": [
      "\u001b[1;31m---------------------------------------------------------------------------\u001b[0m",
      "\u001b[1;31mTypeError\u001b[0m                                 Traceback (most recent call last)",
      "Input \u001b[1;32mIn [8]\u001b[0m, in \u001b[0;36m<cell line: 9>\u001b[1;34m()\u001b[0m\n\u001b[0;32m      7\u001b[0m list1 \u001b[38;5;241m=\u001b[39m [\u001b[38;5;124m\"\u001b[39m\u001b[38;5;124mGfg\u001b[39m\u001b[38;5;124m\"\u001b[39m, \u001b[38;5;124m\"\u001b[39m\u001b[38;5;124mis\u001b[39m\u001b[38;5;124m\"\u001b[39m, \u001b[38;5;124m\"\u001b[39m\u001b[38;5;124mBest\u001b[39m\u001b[38;5;124m\"\u001b[39m]\n\u001b[0;32m      8\u001b[0m list2 \u001b[38;5;241m=\u001b[39m [\u001b[38;5;124m\"\u001b[39m\u001b[38;5;124mI love Gfg\u001b[39m\u001b[38;5;124m\"\u001b[39m, \u001b[38;5;124m\"\u001b[39m\u001b[38;5;124mIts Best for Geeks\u001b[39m\u001b[38;5;124m\"\u001b[39m, \u001b[38;5;124m\"\u001b[39m\u001b[38;5;124mGfg means CS\u001b[39m\u001b[38;5;124m\"\u001b[39m]\n\u001b[1;32m----> 9\u001b[0m \u001b[38;5;28mprint\u001b[39m(\u001b[43mis_substring_in_list\u001b[49m\u001b[43m(\u001b[49m\u001b[43mlist1\u001b[49m\u001b[43m,\u001b[49m\u001b[43mlist2\u001b[49m\u001b[43m)\u001b[49m)\n",
      "Input \u001b[1;32mIn [8]\u001b[0m, in \u001b[0;36mis_substring_in_list\u001b[1;34m(string, list_of_strings)\u001b[0m\n\u001b[0;32m      1\u001b[0m \u001b[38;5;28;01mdef\u001b[39;00m \u001b[38;5;21mis_substring_in_list\u001b[39m(string, list_of_strings):\n\u001b[0;32m      2\u001b[0m     \u001b[38;5;28;01mfor\u001b[39;00m s \u001b[38;5;129;01min\u001b[39;00m list_of_strings:\n\u001b[1;32m----> 3\u001b[0m         \u001b[38;5;28;01mif\u001b[39;00m \u001b[43mstring\u001b[49m\u001b[43m \u001b[49m\u001b[38;5;129;43;01min\u001b[39;49;00m\u001b[43m \u001b[49m\u001b[43ms\u001b[49m:\n\u001b[0;32m      4\u001b[0m             \u001b[38;5;28;01mreturn\u001b[39;00m \u001b[38;5;28;01mTrue\u001b[39;00m\n\u001b[0;32m      5\u001b[0m     \u001b[38;5;28;01mreturn\u001b[39;00m \u001b[38;5;28;01mFalse\u001b[39;00m\n",
      "\u001b[1;31mTypeError\u001b[0m: 'in <string>' requires string as left operand, not list"
     ]
    }
   ],
   "source": [
    "def is_substring_in_list(string, list_of_strings):\n",
    "    for s in list_of_strings:\n",
    "        if substring in s:\n",
    "            return True\n",
    "    return False\n",
    "\n",
    "list1 = [\"Gfg\", \"is\", \"Best\"]\n",
    "list2 = [\"I love Gfg\", \"Its Best for Geeks\", \"Gfg means CS\"]\n",
    "print(is_substring_in_list(list1,list2))"
   ]
  },
  {
   "cell_type": "code",
   "execution_count": null,
   "id": "b40c837a",
   "metadata": {},
   "outputs": [],
   "source": []
  }
 ],
 "metadata": {
  "kernelspec": {
   "display_name": "Python 3 (ipykernel)",
   "language": "python",
   "name": "python3"
  },
  "language_info": {
   "codemirror_mode": {
    "name": "ipython",
    "version": 3
   },
   "file_extension": ".py",
   "mimetype": "text/x-python",
   "name": "python",
   "nbconvert_exporter": "python",
   "pygments_lexer": "ipython3",
   "version": "3.8.5"
  }
 },
 "nbformat": 4,
 "nbformat_minor": 5
}
